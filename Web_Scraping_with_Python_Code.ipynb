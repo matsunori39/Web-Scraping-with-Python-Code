{
  "nbformat": 4,
  "nbformat_minor": 0,
  "metadata": {
    "colab": {
      "name": "Web Scraping with Python Code.ipynb",
      "provenance": [],
      "authorship_tag": "ABX9TyNtWfnv8moLeyH+5yBlfzaC",
      "include_colab_link": true
    },
    "kernelspec": {
      "name": "python3",
      "display_name": "Python 3"
    },
    "language_info": {
      "name": "python"
    }
  },
  "cells": [
    {
      "cell_type": "markdown",
      "metadata": {
        "id": "view-in-github",
        "colab_type": "text"
      },
      "source": [
        "<a href=\"https://colab.research.google.com/github/matsunori39/Web-Scraping-with-Python-Code/blob/main/Web_Scraping_with_Python_Code.ipynb\" target=\"_parent\"><img src=\"https://colab.research.google.com/assets/colab-badge.svg\" alt=\"Open In Colab\"/></a>"
      ]
    },
    {
      "cell_type": "markdown",
      "source": [
        "https://github.com/REMitchell/python-scraping"
      ],
      "metadata": {
        "id": "QMy6i13QUz2b"
      }
    },
    {
      "cell_type": "markdown",
      "source": [
        "# Chapter01_BeginningToScrape"
      ],
      "metadata": {
        "id": "7ww1D_nGU3bR"
      }
    },
    {
      "cell_type": "markdown",
      "source": [
        "## 1.1 connect"
      ],
      "metadata": {
        "id": "VBggBNuqVFNI"
      }
    },
    {
      "cell_type": "code",
      "source": [
        "from urllib.request import urlopen"
      ],
      "metadata": {
        "id": "Gs_RSWtaVb_6"
      },
      "execution_count": 1,
      "outputs": []
    },
    {
      "cell_type": "code",
      "source": [
        "html = urlopen('http://pythonscraping.com/pages/page1.html')\n",
        "print(html.read())"
      ],
      "metadata": {
        "colab": {
          "base_uri": "https://localhost:8080/"
        },
        "id": "KM2f_sohViUJ",
        "outputId": "5e04b582-4352-4c61-936d-30bfbe1dcb79"
      },
      "execution_count": 2,
      "outputs": [
        {
          "output_type": "stream",
          "name": "stdout",
          "text": [
            "b'<html>\\n<head>\\n<title>A Useful Page</title>\\n</head>\\n<body>\\n<h1>An Interesting Title</h1>\\n<div>\\nLorem ipsum dolor sit amet, consectetur adipisicing elit, sed do eiusmod tempor incididunt ut labore et dolore magna aliqua. Ut enim ad minim veniam, quis nostrud exercitation ullamco laboris nisi ut aliquip ex ea commodo consequat. Duis aute irure dolor in reprehenderit in voluptate velit esse cillum dolore eu fugiat nulla pariatur. Excepteur sint occaecat cupidatat non proident, sunt in culpa qui officia deserunt mollit anim id est laborum.\\n</div>\\n</body>\\n</html>\\n'\n"
          ]
        }
      ]
    },
    {
      "cell_type": "markdown",
      "source": [
        "## 1.2 My first BeautifulSoup"
      ],
      "metadata": {
        "id": "OR1OD1k_Vqq-"
      }
    },
    {
      "cell_type": "markdown",
      "source": [
        "### 1.2.1 Installing BeautifulSoup"
      ],
      "metadata": {
        "id": "t9ZSHWAoXVIV"
      }
    },
    {
      "cell_type": "code",
      "source": [
        "!pip install beautifulsoup4"
      ],
      "metadata": {
        "colab": {
          "base_uri": "https://localhost:8080/"
        },
        "id": "0-nD3zAfWYZk",
        "outputId": "b0b3269d-ccc6-49a7-cc48-c5b4bf31df01"
      },
      "execution_count": 7,
      "outputs": [
        {
          "output_type": "stream",
          "name": "stdout",
          "text": [
            "Requirement already satisfied: beautifulsoup4 in /usr/local/lib/python3.7/dist-packages (4.6.3)\n"
          ]
        }
      ]
    },
    {
      "cell_type": "markdown",
      "source": [
        "### 1.2.2 Execute BeautifulSoup"
      ],
      "metadata": {
        "id": "sv0dgk6VW7BC"
      }
    },
    {
      "cell_type": "code",
      "source": [
        "from urllib.request import urlopen\n",
        "from bs4 import BeautifulSoup"
      ],
      "metadata": {
        "id": "RVu-xLHyZ-C1"
      },
      "execution_count": 11,
      "outputs": []
    },
    {
      "cell_type": "code",
      "source": [
        "html = urlopen('http://www.pythonscraping.com/pages/page1.html')\n",
        "bs = BeautifulSoup(html.read(), 'html.parser')\n",
        "print(bs.h1)"
      ],
      "metadata": {
        "colab": {
          "base_uri": "https://localhost:8080/"
        },
        "id": "QjKvhwOEgX-0",
        "outputId": "6e5d773e-f3b3-4251-d718-89e7df5c3057"
      },
      "execution_count": 12,
      "outputs": [
        {
          "output_type": "stream",
          "name": "stdout",
          "text": [
            "<h1>An Interesting Title</h1>\n"
          ]
        }
      ]
    },
    {
      "cell_type": "markdown",
      "source": [
        "### 1.2.3 Handle exceptions to ensure a reliable connection"
      ],
      "metadata": {
        "id": "b3RAdnEpgx-v"
      }
    },
    {
      "cell_type": "code",
      "source": [
        "from urllib.request import urlopen\n",
        "from urllib.error import HTTPError"
      ],
      "metadata": {
        "id": "9-f7Shsth9hd"
      },
      "execution_count": 13,
      "outputs": []
    },
    {
      "cell_type": "code",
      "source": [
        "try:\n",
        "  html = urlopen('http://www.pythonscraping.com/pages/page1.html')\n",
        "except HTTPError as e:\n",
        "  print(e)\n",
        "\n",
        "else:\n",
        "  pass"
      ],
      "metadata": {
        "id": "ZGomSMs3iG0L"
      },
      "execution_count": 15,
      "outputs": []
    },
    {
      "cell_type": "code",
      "source": [
        "from urllib.request import urlopen\n",
        "from urllib.error import HTTPError\n",
        "from urllib.error import URLError"
      ],
      "metadata": {
        "id": "aBqSuf7liZNv"
      },
      "execution_count": 16,
      "outputs": []
    },
    {
      "cell_type": "code",
      "source": [
        "try:\n",
        "  html = urlopen('http://pythonscrapingthisurldoesnotexist.com')\n",
        "except HTTPError as e:\n",
        "  print(e)\n",
        "except URLError as e:\n",
        "  print('The Server could not be found!')\n",
        "\n",
        "else:\n",
        "  print('It Worked!')"
      ],
      "metadata": {
        "colab": {
          "base_uri": "https://localhost:8080/"
        },
        "id": "irz-BRkhimSJ",
        "outputId": "c0485c13-a28c-48d7-ea1a-d9067f9344aa"
      },
      "execution_count": 17,
      "outputs": [
        {
          "output_type": "stream",
          "name": "stdout",
          "text": [
            "The Server could not be found!\n"
          ]
        }
      ]
    },
    {
      "cell_type": "code",
      "source": [
        "print(bs.nonExistentTag)"
      ],
      "metadata": {
        "colab": {
          "base_uri": "https://localhost:8080/"
        },
        "id": "QozZ02L8i70g",
        "outputId": "e84f08dc-a0d0-42aa-ab9d-d015bfe1ab27"
      },
      "execution_count": 18,
      "outputs": [
        {
          "output_type": "stream",
          "name": "stdout",
          "text": [
            "None\n"
          ]
        },
        {
          "output_type": "stream",
          "name": "stderr",
          "text": [
            "/usr/local/lib/python3.7/dist-packages/bs4/element.py:1110: UserWarning: .nonExistentTag is deprecated, use .find(\"nonExistent\") instead. If you really were looking for a tag called nonExistentTag, use .find(\"nonExistentTag\")\n",
            "  name=tag_name\n"
          ]
        }
      ]
    },
    {
      "cell_type": "code",
      "source": [
        "# print(bs.nonExistentTag.someTag)"
      ],
      "metadata": {
        "colab": {
          "base_uri": "https://localhost:8080/",
          "height": 231
        },
        "id": "sQar1Y7JjBtg",
        "outputId": "678af958-7d6b-4e5b-9ca9-a4e1bdba80b8"
      },
      "execution_count": 19,
      "outputs": [
        {
          "output_type": "stream",
          "name": "stderr",
          "text": [
            "/usr/local/lib/python3.7/dist-packages/bs4/element.py:1110: UserWarning: .nonExistentTag is deprecated, use .find(\"nonExistent\") instead. If you really were looking for a tag called nonExistentTag, use .find(\"nonExistentTag\")\n",
            "  name=tag_name\n"
          ]
        },
        {
          "output_type": "error",
          "ename": "AttributeError",
          "evalue": "ignored",
          "traceback": [
            "\u001b[0;31m---------------------------------------------------------------------------\u001b[0m",
            "\u001b[0;31mAttributeError\u001b[0m                            Traceback (most recent call last)",
            "\u001b[0;32m<ipython-input-19-099e5c08ffb5>\u001b[0m in \u001b[0;36m<module>\u001b[0;34m()\u001b[0m\n\u001b[0;32m----> 1\u001b[0;31m \u001b[0mprint\u001b[0m\u001b[0;34m(\u001b[0m\u001b[0mbs\u001b[0m\u001b[0;34m.\u001b[0m\u001b[0mnonExistentTag\u001b[0m\u001b[0;34m.\u001b[0m\u001b[0msomeTag\u001b[0m\u001b[0;34m)\u001b[0m\u001b[0;34m\u001b[0m\u001b[0;34m\u001b[0m\u001b[0m\n\u001b[0m",
            "\u001b[0;31mAttributeError\u001b[0m: 'NoneType' object has no attribute 'someTag'"
          ]
        }
      ]
    },
    {
      "cell_type": "code",
      "source": [
        "try:\n",
        "  badContent = bs.nonExistentTag.anotherTag\n",
        "except AttributeError as e:\n",
        "  print('Tag was not found')\n",
        "\n",
        "else:\n",
        "  if badContent == None:\n",
        "    print('Tag was not found')\n",
        "  else:\n",
        "    print(badContent)"
      ],
      "metadata": {
        "colab": {
          "base_uri": "https://localhost:8080/"
        },
        "id": "MRd53npvjHGN",
        "outputId": "7e25e826-15b1-4802-d8b2-7731e4d92eca"
      },
      "execution_count": 20,
      "outputs": [
        {
          "output_type": "stream",
          "name": "stdout",
          "text": [
            "Tag was not found\n"
          ]
        },
        {
          "output_type": "stream",
          "name": "stderr",
          "text": [
            "/usr/local/lib/python3.7/dist-packages/bs4/element.py:1110: UserWarning: .nonExistentTag is deprecated, use .find(\"nonExistent\") instead. If you really were looking for a tag called nonExistentTag, use .find(\"nonExistentTag\")\n",
            "  name=tag_name\n"
          ]
        }
      ]
    },
    {
      "cell_type": "code",
      "source": [
        "from urllib.request import urlopen\n",
        "from urllib.error import HTTPError\n",
        "from urllib.error import URLError"
      ],
      "metadata": {
        "id": "8RC3lE7TjojV"
      },
      "execution_count": 22,
      "outputs": []
    },
    {
      "cell_type": "code",
      "source": [
        "def getTitle(url):\n",
        "  try:\n",
        "    html = urlopen(url)\n",
        "  except HTTPError as e:\n",
        "    return None\n",
        "  try:\n",
        "    bs = BeautifulSoup(html.read(), 'html.parser')\n",
        "    title = bs.body.h1\n",
        "  except AttributeError as e:\n",
        "    return None\n",
        "  return title"
      ],
      "metadata": {
        "id": "R15IBfGdktP2"
      },
      "execution_count": 23,
      "outputs": []
    },
    {
      "cell_type": "code",
      "source": [
        "title = getTitle('http://www.pythonscraping.com/pages/page1.html')\n",
        "if title == None:\n",
        "  print('Title could not be found')\n",
        "else:\n",
        "  print(title)"
      ],
      "metadata": {
        "colab": {
          "base_uri": "https://localhost:8080/"
        },
        "id": "7QZNOlsqkfsq",
        "outputId": "4173bad4-b532-4b0b-97f5-104c8fd91b2f"
      },
      "execution_count": 24,
      "outputs": [
        {
          "output_type": "stream",
          "name": "stdout",
          "text": [
            "<h1>An Interesting Title</h1>\n"
          ]
        }
      ]
    },
    {
      "cell_type": "code",
      "source": [
        ""
      ],
      "metadata": {
        "id": "lzSyO7hhktu8"
      },
      "execution_count": null,
      "outputs": []
    }
  ]
}